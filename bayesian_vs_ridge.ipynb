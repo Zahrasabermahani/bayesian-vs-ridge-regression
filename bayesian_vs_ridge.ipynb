{
  "cells": [
    {
      "cell_type": "markdown",
      "metadata": {
        "id": "9Ro4nOoLNu0w"
      },
      "source": [
        "\n",
        "\n",
        "Read in data in bb.csv. The fourth column contains a value that should be predicted based on three first column values.\n",
        "\n",
        "Standardise the values (no need to split into training, validation and test sets), and then\n",
        "\n",
        "* Create a regularised (use sum of weights squared regularisation) model to see the coefficient point estimates\n",
        "* Create a Bayesian variant of the same model, compare the model parameter means to point estamates and report findings. Record also uncertainty of the parameters (the co-variance matrix sigma).\n",
        "* Create a Bayesiam model by creating pymc model and sample from it. Use both Normal and Uniform priors for the parameters - are there any differences? Compare the statistics calculated from samples with the previous step and report findings."
      ]
    },
    {
      "cell_type": "code",
      "execution_count": null,
      "metadata": {
        "id": "zBN3ZsUWNu00"
      },
      "outputs": [],
      "source": [
        "import numpy as np\n",
        "import matplotlib.pyplot as plt\n",
        "import sklearn\n",
        "import pymc as pm\n",
        "import scipy\n",
        "\n",
        "from sklearn.linear_model import Ridge, BayesianRidge\n",
        "from sklearn.preprocessing import StandardScaler"
      ]
    },
    {
      "cell_type": "code",
      "execution_count": null,
      "metadata": {
        "id": "pGRiuGSjNu02"
      },
      "outputs": [],
      "source": [
        "# test\n",
        "assert(bb_data.shape[0] == 41)\n",
        "assert(bb_data.shape[1] == 4)"
      ]
    },
    {
      "cell_type": "code",
      "execution_count": null,
      "metadata": {
        "id": "UHiF7OaENu03",
        "outputId": "4748431b-f1fa-4ac9-bfd1-15bccc298fd9"
      },
      "outputs": [
        {
          "name": "stdout",
          "output_type": "stream",
          "text": [
            "[ 0.11990405  0.7363293  -1.00333315]\n"
          ]
        }
      ],
      "source": [
        "\n",
        "scaler = StandardScaler().fit(x)\n",
        "scaled_x = scaler.transform(x)"
      ]
    },
    {
      "cell_type": "code",
      "execution_count": null,
      "metadata": {
        "id": "fj7TiXDhNu04",
        "outputId": "6573520c-db23-43ca-aa84-20c28fcb5b99"
      },
      "outputs": [
        {
          "name": "stdout",
          "output_type": "stream",
          "text": [
            "[ 0.11990405  0.7363293  -1.00333315]\n"
          ]
        }
      ],
      "source": [
        "model_ridge = Ridge().fit(scaled_x,y)\n",
        "print(model_ridge.coef_)"
      ]
    },
    {
      "cell_type": "code",
      "execution_count": null,
      "metadata": {
        "id": "wTqPY_u3Nu04",
        "outputId": "3fc16e2c-f391-4c02-d794-9a5cd4780632"
      },
      "outputs": [
        {
          "name": "stdout",
          "output_type": "stream",
          "text": [
            "[ 0.10176011  0.65747146 -0.97926625]\n",
            "[[ 0.00785608  0.00660199 -0.00329436]\n",
            " [ 0.00660199  0.05014773 -0.00186485]\n",
            " [-0.00329436 -0.00186485  0.01027956]]\n"
          ]
        }
      ],
      "source": [
        "model_bayesianridge = BayesianRidge().fit(x,y)\n",
        "print(model_bayesianridge.coef_)\n",
        "print(model_bayesianridge.sigma_)"
      ]
    },
    {
      "cell_type": "code",
      "execution_count": null,
      "metadata": {
        "id": "SmRrTfkLNu05",
        "outputId": "0250291e-6a8e-492b-e408-fa8b0955eac4"
      },
      "outputs": [
        {
          "name": "stderr",
          "output_type": "stream",
          "text": [
            "/var/folders/02/xqlcb8cs6xl1pzfb6zvtw7180000gp/T/ipykernel_13519/1377658837.py:18: FutureWarning: In v4.0, pm.sample will return an `arviz.InferenceData` object instead of a `MultiTrace` by default. You can pass return_inferencedata=True or return_inferencedata=False to be safe and silence this warning.\n",
            "  trace = pm.sample(3000, tune=2000)\n",
            "Auto-assigning NUTS sampler...\n",
            "Initializing NUTS using jitter+adapt_diag...\n",
            "Multiprocess sampling (4 chains in 4 jobs)\n",
            "NUTS: [w3, w2, w1, w0]\n"
          ]
        },
        {
          "data": {
            "text/html": [
              "\n",
              "<style>\n",
              "    /* Turns off some styling */\n",
              "    progress {\n",
              "        /* gets rid of default border in Firefox and Opera. */\n",
              "        border: none;\n",
              "        /* Needs to be in here for Safari polyfill so background images work as expected. */\n",
              "        background-size: auto;\n",
              "    }\n",
              "    progress:not([value]), progress:not([value])::-webkit-progress-bar {\n",
              "        background: repeating-linear-gradient(45deg, #7e7e7e, #7e7e7e 10px, #5c5c5c 10px, #5c5c5c 20px);\n",
              "    }\n",
              "    .progress-bar-interrupted, .progress-bar-interrupted::-webkit-progress-bar {\n",
              "        background: #F44336;\n",
              "    }\n",
              "</style>\n"
            ],
            "text/plain": [
              "<IPython.core.display.HTML object>"
            ]
          },
          "metadata": {},
          "output_type": "display_data"
        },
        {
          "data": {
            "text/html": [
              "\n",
              "    <div>\n",
              "      <progress value='20000' class='' max='20000' style='width:300px; height:20px; vertical-align: middle;'></progress>\n",
              "      100.00% [20000/20000 00:13&lt;00:00 Sampling 4 chains, 1,175 divergences]\n",
              "    </div>\n",
              "    "
            ],
            "text/plain": [
              "<IPython.core.display.HTML object>"
            ]
          },
          "metadata": {},
          "output_type": "display_data"
        },
        {
          "name": "stderr",
          "output_type": "stream",
          "text": [
            "Sampling 4 chains for 2_000 tune and 3_000 draw iterations (8_000 + 12_000 draws total) took 34 seconds.\n",
            "The acceptance probability does not match the target. It is 0.9026289421558719, but should be close to 0.8. Try to increase the number of tuning steps.\n",
            "There were 1175 divergences after tuning. Increase `target_accept` or reparameterize.\n",
            "The acceptance probability does not match the target. It is 0.5774240760388694, but should be close to 0.8. Try to increase the number of tuning steps.\n",
            "The number of effective samples is smaller than 10% for some parameters.\n"
          ]
        }
      ],
      "source": [
        "initial_model = pm.Model()\n",
        "\n",
        "with initial_model:\n",
        "\n",
        "    # Priors for unknown model parameters\n",
        "\n",
        "    # Expected value of outcome\n",
        "    mu = w0 + w1*x[:,0] + w2*x[:,1] + w3*x[:,2]\n",
        "\n",
        "    # Likelihood (sampling distribution) of observations\n",
        "    y_obs = pm.Normal(\"y_obs\", mu=mu, observed=y)\n",
        "\n",
        "    # draw posterior samples\n",
        "    trace = pm.sample(3000, tune=2000)"
      ]
    },
    {
      "cell_type": "code",
      "execution_count": null,
      "metadata": {
        "id": "-24xfu8aNu05",
        "outputId": "7ea6242f-5cf9-49b5-b505-431e1b9881a6"
      },
      "outputs": [
        {
          "data": {
            "image/png": "[encoded data removed]",
            "text/plain": [
              "<Figure size 640x480 with 1 Axes>"
            ]
          },
          "metadata": {},
          "output_type": "display_data"
        }
      ],
      "source": [
        "xs = np.linspace(-2,2,200)\n",
        "\n",
        "for w in ['w1', 'w2', 'w3']:\n",
        "\n",
        "plt.legend()\n",
        "plt.show()"
      ]
    },
    {
      "cell_type": "markdown",
      "source": [
        "Bayesian Ridge Regression offered a more nuanced understanding of the model’s confidence by producing distributions over coefficients. While the prediction accuracy was similar to Ridge, the added value of uncertainty estimation makes Bayesian methods valuable, especially when stakes are high or data is noisy.\n",
        "\n"
      ],
      "metadata": {
        "id": "gdB5KhvsPhRA"
      }
    }
  ],
  "metadata": {
    "kernelspec": {
      "display_name": "Python 3.10.4 ('it00ew28')",
      "language": "python",
      "name": "python3"
    },
    "language_info": {
      "codemirror_mode": {
        "name": "ipython",
        "version": 3
      },
      "file_extension": ".py",
      "mimetype": "text/x-python",
      "name": "python",
      "nbconvert_exporter": "python",
      "pygments_lexer": "ipython3",
      "version": "3.10.4"
    },
    "orig_nbformat": 4,
    "vscode": {
      "interpreter": {
        "hash": "69d130accf71c10616f7b0b32746f4cb329da8206ac283f5a69ee58859df0b50"
      }
    },
    "colab": {
      "provenance": []
    }
  },
  "nbformat": 4,
  "nbformat_minor": 0
}